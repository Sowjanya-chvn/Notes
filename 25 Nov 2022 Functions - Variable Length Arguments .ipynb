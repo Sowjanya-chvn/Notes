{
 "cells": [
  {
   "cell_type": "code",
   "execution_count": 2,
   "metadata": {},
   "outputs": [
    {
     "name": "stdout",
     "output_type": "stream",
     "text": [
      "Enter first number : C\n"
     ]
    }
   ],
   "source": [
    "# Create Calculator\n",
    "a=1\n",
    "while a>=1:\n",
    "    x=(input(\"Enter first number : \"))\n",
    "    if x=='C' or x=='c':\n",
    "        break\n",
    "    y=(input(\"Enter the Sign : \"))\n",
    "    z=float(input(\"Enter second number : \"))\n",
    "    if y=='+':\n",
    "        print(\"{} + {} = {}\".format(float(x),z,float(x)+z))\n",
    "    elif y=='-':\n",
    "        print(\"{} - {} = {}\".format(float(x),z,float(x)-z))\n",
    "    elif y=='*':\n",
    "        print(\"{} * {} = {}\".format(float(x),z,float(x)*z))\n",
    "    elif y=='/':\n",
    "        print(\"{} / {} = {}\".format(float(x),z,float(x)/z))\n",
    "    elif y=='%':\n",
    "        print(\"{} / {} = {}\".format(float(x),z,float(x)%z))\n",
    "    elif y=='**':\n",
    "        print(\"{}^{} = {}\".format(float(x),z,float(x)**z))\n",
    "    else:\n",
    "        print(\"Invalid Sign\")\n",
    "a=a+1"
   ]
  },
  {
   "cell_type": "code",
   "execution_count": null,
   "metadata": {},
   "outputs": [],
   "source": [
    "def calculator(x1,x2,x3):\n",
    "    "
   ]
  },
  {
   "cell_type": "code",
   "execution_count": 3,
   "metadata": {},
   "outputs": [],
   "source": [
    "def f1(x=10):\n",
    "    print(x)"
   ]
  },
  {
   "cell_type": "code",
   "execution_count": 4,
   "metadata": {},
   "outputs": [
    {
     "name": "stdout",
     "output_type": "stream",
     "text": [
      "10\n"
     ]
    }
   ],
   "source": [
    "f1()"
   ]
  },
  {
   "cell_type": "code",
   "execution_count": 5,
   "metadata": {},
   "outputs": [
    {
     "ename": "TypeError",
     "evalue": "f1() takes from 0 to 1 positional arguments but 6 were given",
     "output_type": "error",
     "traceback": [
      "\u001b[1;31m---------------------------------------------------------------------------\u001b[0m",
      "\u001b[1;31mTypeError\u001b[0m                                 Traceback (most recent call last)",
      "\u001b[1;32m<ipython-input-5-d33935cb7adf>\u001b[0m in \u001b[0;36m<module>\u001b[1;34m\u001b[0m\n\u001b[1;32m----> 1\u001b[1;33m \u001b[0mf1\u001b[0m\u001b[1;33m(\u001b[0m\u001b[1;36m1\u001b[0m\u001b[1;33m,\u001b[0m\u001b[1;36m2\u001b[0m\u001b[1;33m,\u001b[0m\u001b[1;36m3\u001b[0m\u001b[1;33m,\u001b[0m\u001b[1;36m4\u001b[0m\u001b[1;33m,\u001b[0m\u001b[1;36m5\u001b[0m\u001b[1;33m,\u001b[0m\u001b[1;36m6\u001b[0m\u001b[1;33m)\u001b[0m\u001b[1;33m\u001b[0m\u001b[1;33m\u001b[0m\u001b[0m\n\u001b[0m",
      "\u001b[1;31mTypeError\u001b[0m: f1() takes from 0 to 1 positional arguments but 6 were given"
     ]
    }
   ],
   "source": [
    "f1(1,2,3,4,5,6)"
   ]
  },
  {
   "cell_type": "code",
   "execution_count": 6,
   "metadata": {},
   "outputs": [],
   "source": [
    "# * : args (non-keyworded variable length arguments)\n",
    "def f1(*x):\n",
    "    print(x)"
   ]
  },
  {
   "cell_type": "code",
   "execution_count": 7,
   "metadata": {},
   "outputs": [
    {
     "name": "stdout",
     "output_type": "stream",
     "text": [
      "(1, 2, 3, 4, 5, 6, 7)\n"
     ]
    }
   ],
   "source": [
    "f1(1,2,3,4,5,6,7)"
   ]
  },
  {
   "cell_type": "code",
   "execution_count": 8,
   "metadata": {},
   "outputs": [],
   "source": [
    "def f1(*x):\n",
    "    print(list(x))"
   ]
  },
  {
   "cell_type": "code",
   "execution_count": 9,
   "metadata": {},
   "outputs": [
    {
     "name": "stdout",
     "output_type": "stream",
     "text": [
      "[1, 2, 3, 4, 5]\n"
     ]
    }
   ],
   "source": [
    "f1(1,2,3,4,5)"
   ]
  },
  {
   "cell_type": "code",
   "execution_count": 10,
   "metadata": {},
   "outputs": [],
   "source": [
    "def f1(*x):\n",
    "    print(set(x))"
   ]
  },
  {
   "cell_type": "code",
   "execution_count": 11,
   "metadata": {},
   "outputs": [
    {
     "name": "stdout",
     "output_type": "stream",
     "text": [
      "{1, 2, 3, 4, 5, 76}\n"
     ]
    }
   ],
   "source": [
    "f1(1,2,3,4,5,76)"
   ]
  },
  {
   "cell_type": "code",
   "execution_count": 12,
   "metadata": {},
   "outputs": [
    {
     "name": "stdout",
     "output_type": "stream",
     "text": [
      "(1, 2, 3, 4, 5, 6, 7)\n"
     ]
    }
   ],
   "source": [
    "def f1(*x):\n",
    "    print(x)\n",
    "f1(1,2,3,4,5,6,7)"
   ]
  },
  {
   "cell_type": "code",
   "execution_count": 17,
   "metadata": {},
   "outputs": [
    {
     "name": "stdout",
     "output_type": "stream",
     "text": [
      "(2, 4, 3, 6)\n",
      "Number 2 is Even\n",
      "Number 4 is Even\n",
      "Number 6 is Even\n"
     ]
    }
   ],
   "source": [
    "# Create a function which will output even numbers\n",
    "def even(*x):\n",
    "    print(x)\n",
    "    for y in x:\n",
    "        if y%2==0:\n",
    "            print(\"Number {} is Even\".format(y))\n",
    "even(2,4,3,6,)"
   ]
  },
  {
   "cell_type": "code",
   "execution_count": 18,
   "metadata": {},
   "outputs": [
    {
     "name": "stdout",
     "output_type": "stream",
     "text": [
      "(2, 4, 3, 6)\n"
     ]
    }
   ],
   "source": [
    "def even(*x):\n",
    "    print(x)\n",
    "    l=[]\n",
    "    for y in x:\n",
    "        if y%2==0:\n",
    "            l.append(y)\n",
    "even(2,4,3,6,)"
   ]
  },
  {
   "cell_type": "code",
   "execution_count": 20,
   "metadata": {},
   "outputs": [
    {
     "name": "stdout",
     "output_type": "stream",
     "text": [
      "(2, 3, 4, 5, 6)\n"
     ]
    }
   ],
   "source": [
    "wi=even # assigning the fn. to a variable\n",
    "wi(2,3,4,5,6)"
   ]
  },
  {
   "cell_type": "code",
   "execution_count": 22,
   "metadata": {},
   "outputs": [
    {
     "name": "stdout",
     "output_type": "stream",
     "text": [
      "(2, 4, 3, 6)\n",
      "[2, 4, 6]\n"
     ]
    }
   ],
   "source": [
    "def even(*x):\n",
    "    print(x)\n",
    "    l=[]\n",
    "    for y in x:\n",
    "        if y%2==0:\n",
    "            l.append(y)\n",
    "    print(l)\n",
    "even(2,4,3,6,)"
   ]
  },
  {
   "cell_type": "code",
   "execution_count": 36,
   "metadata": {},
   "outputs": [],
   "source": [
    "# whenever we are using a fn.(user define or in built) all the fn. will return onething\n",
    "def even(*x):\n",
    "    print(x)\n",
    "    l=[] # empty list\n",
    "    for y in x:\n",
    "        if y%2==0:\n",
    "            l.append(y)\n",
    "    return l"
   ]
  },
  {
   "cell_type": "code",
   "execution_count": 37,
   "metadata": {},
   "outputs": [
    {
     "name": "stdout",
     "output_type": "stream",
     "text": [
      "(2, 4, 3, 6, 8, 9, 10, 11, 12, 13)\n"
     ]
    },
    {
     "data": {
      "text/plain": [
       "[2, 4, 6, 8, 10, 12]"
      ]
     },
     "execution_count": 37,
     "metadata": {},
     "output_type": "execute_result"
    }
   ],
   "source": [
    "wi=even\n",
    "wi(2,4,3,6,8,9,10,11,12,13)"
   ]
  },
  {
   "cell_type": "code",
   "execution_count": 46,
   "metadata": {},
   "outputs": [],
   "source": [
    "def even(*x):\n",
    "    print(x)\n",
    "    l=[{}]\n",
    "    for y in x:\n",
    "        if y%2==0:\n",
    "            l.append(y)\n",
    "    return l"
   ]
  },
  {
   "cell_type": "code",
   "execution_count": 47,
   "metadata": {},
   "outputs": [
    {
     "name": "stdout",
     "output_type": "stream",
     "text": [
      "(2, 4, 3, 6, 8, 9, 10, 11, 12, 13)\n"
     ]
    },
    {
     "data": {
      "text/plain": [
       "[{}, 2, 4, 6, 8, 10, 12]"
      ]
     },
     "execution_count": 47,
     "metadata": {},
     "output_type": "execute_result"
    }
   ],
   "source": [
    "wi=even\n",
    "wi(2,4,3,6,8,9,10,11,12,13)"
   ]
  },
  {
   "cell_type": "code",
   "execution_count": 51,
   "metadata": {},
   "outputs": [],
   "source": [
    "def even(*x):\n",
    "    print(x)\n",
    "    l=[]\n",
    "    for y in x:\n",
    "        if y%2==0:\n",
    "            l.append(y)\n",
    "    return l"
   ]
  },
  {
   "cell_type": "code",
   "execution_count": 52,
   "metadata": {},
   "outputs": [
    {
     "name": "stdout",
     "output_type": "stream",
     "text": [
      "(1, 2, 3, 4, 5, 6, 7, 8)\n"
     ]
    },
    {
     "data": {
      "text/plain": [
       "[2, 4, 6, 8]"
      ]
     },
     "execution_count": 52,
     "metadata": {},
     "output_type": "execute_result"
    }
   ],
   "source": [
    "even(1,2,3,4,5,6,7,8)"
   ]
  },
  {
   "cell_type": "code",
   "execution_count": 68,
   "metadata": {},
   "outputs": [],
   "source": [
    "# create a fn. which passes a string of length 10\n",
    "# elements present in the odd index value\n",
    "# i/p = abcdefghijk   o/p = (b,d,f,h,j)\n",
    "def f2(x):\n",
    "    print(x)\n",
    "    l=[]\n",
    "    for y in range(len(x)):\n",
    "        if y%2!=0:\n",
    "            l.append(x[y])\n",
    "    return l"
   ]
  },
  {
   "cell_type": "code",
   "execution_count": 69,
   "metadata": {},
   "outputs": [
    {
     "name": "stdout",
     "output_type": "stream",
     "text": [
      "abcdefghijk\n"
     ]
    },
    {
     "data": {
      "text/plain": [
       "['b', 'd', 'f', 'h', 'j']"
      ]
     },
     "execution_count": 69,
     "metadata": {},
     "output_type": "execute_result"
    }
   ],
   "source": [
    "f2(\"abcdefghijk\")"
   ]
  },
  {
   "cell_type": "code",
   "execution_count": 71,
   "metadata": {},
   "outputs": [],
   "source": [
    "# create a fn. which passes a string of length 10\n",
    "# elements present in the even index value\n",
    "def f2(x):\n",
    "    print(x)\n",
    "    l=[]\n",
    "    for y in range(len(x)):\n",
    "        if y%2==0:\n",
    "            l.append(x[y])\n",
    "    return l"
   ]
  },
  {
   "cell_type": "code",
   "execution_count": 72,
   "metadata": {},
   "outputs": [
    {
     "name": "stdout",
     "output_type": "stream",
     "text": [
      "abcdefghijklm\n"
     ]
    },
    {
     "data": {
      "text/plain": [
       "['a', 'c', 'e', 'g', 'i', 'k', 'm']"
      ]
     },
     "execution_count": 72,
     "metadata": {},
     "output_type": "execute_result"
    }
   ],
   "source": [
    "f2(\"abcdefghijklm\")"
   ]
  },
  {
   "cell_type": "code",
   "execution_count": 93,
   "metadata": {},
   "outputs": [],
   "source": [
    "# Create a fn. all the odd index is upper case and even index is lower and should return a string\n",
    "def f2(x):\n",
    "    print(x)\n",
    "    l=\" \"\n",
    "    count=0\n",
    "    for y in x:\n",
    "        count= count+1\n",
    "        if count%2!=0:\n",
    "            l=l+y.lower()\n",
    "        else:\n",
    "            l=l+y.upper()\n",
    "    return l"
   ]
  },
  {
   "cell_type": "code",
   "execution_count": 94,
   "metadata": {},
   "outputs": [
    {
     "name": "stdout",
     "output_type": "stream",
     "text": [
      "cbcdef\n"
     ]
    },
    {
     "data": {
      "text/plain": [
       "' cBcDeF'"
      ]
     },
     "execution_count": 94,
     "metadata": {},
     "output_type": "execute_result"
    }
   ],
   "source": [
    "f2(\"cbcdef\")"
   ]
  },
  {
   "cell_type": "code",
   "execution_count": 95,
   "metadata": {},
   "outputs": [
    {
     "name": "stdout",
     "output_type": "stream",
     "text": [
      "abcdefghijkl\n"
     ]
    },
    {
     "data": {
      "text/plain": [
       "' aBcDeFgHiJkL'"
      ]
     },
     "execution_count": 95,
     "metadata": {},
     "output_type": "execute_result"
    }
   ],
   "source": [
    "f2(\"abcdefghijkl\")"
   ]
  },
  {
   "cell_type": "code",
   "execution_count": 96,
   "metadata": {},
   "outputs": [],
   "source": [
    "# Create a multipication table\n",
    "# mul_ta(5,7)\n",
    "# 5*1=5\n",
    "# 5*2=10\n",
    "# .\n",
    "# .\n",
    "# .\n",
    "# 5*7=35"
   ]
  },
  {
   "cell_type": "code",
   "execution_count": 103,
   "metadata": {},
   "outputs": [],
   "source": [
    "def mul_tab(x,y):\n",
    "    for z in range(1,y):\n",
    "        print(\"{} * {} = {}\".format(x,z,x*z))\n",
    "    "
   ]
  },
  {
   "cell_type": "code",
   "execution_count": 109,
   "metadata": {},
   "outputs": [
    {
     "name": "stdout",
     "output_type": "stream",
     "text": [
      "5 * 1 = 5\n",
      "5 * 2 = 10\n",
      "5 * 3 = 15\n",
      "5 * 4 = 20\n",
      "5 * 5 = 25\n",
      "5 * 6 = 30\n",
      "5 * 7 = 35\n",
      "5 * 8 = 40\n",
      "5 * 9 = 45\n",
      "5 * 10 = 50\n",
      "5 * 11 = 55\n",
      "5 * 12 = 60\n",
      "5 * 13 = 65\n",
      "5 * 14 = 70\n",
      "5 * 15 = 75\n",
      "5 * 16 = 80\n",
      "5 * 17 = 85\n",
      "5 * 18 = 90\n",
      "5 * 19 = 95\n",
      "5 * 20 = 100\n"
     ]
    }
   ],
   "source": [
    "mul_tab(5,20)"
   ]
  },
  {
   "cell_type": "code",
   "execution_count": 117,
   "metadata": {},
   "outputs": [],
   "source": [
    "def mul_tab(x,y):\n",
    "    for z in range(1,y+1):\n",
    "            print(\"{} * {} = {}\".format(x,z,x*z))"
   ]
  },
  {
   "cell_type": "code",
   "execution_count": 118,
   "metadata": {},
   "outputs": [
    {
     "name": "stdout",
     "output_type": "stream",
     "text": [
      "5 * 1 = 5\n",
      "5 * 2 = 10\n",
      "5 * 3 = 15\n"
     ]
    }
   ],
   "source": [
    "mul_tab(5,3)"
   ]
  },
  {
   "cell_type": "code",
   "execution_count": 119,
   "metadata": {},
   "outputs": [
    {
     "name": "stdout",
     "output_type": "stream",
     "text": [
      "1 * 1 = 1\n",
      "1 * 2 = 2\n",
      "1 * 3 = 3\n",
      "1 * 4 = 4\n",
      "1 * 5 = 5\n",
      "1 * 6 = 6\n",
      "1 * 7 = 7\n",
      "1 * 8 = 8\n",
      "1 * 9 = 9\n",
      "1 * 10 = 10\n",
      "1 * 11 = 11\n",
      "1 * 12 = 12\n",
      "1 * 13 = 13\n",
      "1 * 14 = 14\n",
      "1 * 15 = 15\n",
      "1 * 16 = 16\n",
      "1 * 17 = 17\n",
      "1 * 18 = 18\n",
      "1 * 19 = 19\n",
      "1 * 20 = 20\n"
     ]
    }
   ],
   "source": [
    "mul_tab(1,20)"
   ]
  },
  {
   "cell_type": "code",
   "execution_count": null,
   "metadata": {},
   "outputs": [],
   "source": []
  }
 ],
 "metadata": {
  "kernelspec": {
   "display_name": "Python 3",
   "language": "python",
   "name": "python3"
  },
  "language_info": {
   "codemirror_mode": {
    "name": "ipython",
    "version": 3
   },
   "file_extension": ".py",
   "mimetype": "text/x-python",
   "name": "python",
   "nbconvert_exporter": "python",
   "pygments_lexer": "ipython3",
   "version": "3.7.4"
  }
 },
 "nbformat": 4,
 "nbformat_minor": 2
}
