{
 "cells": [
  {
   "cell_type": "code",
   "execution_count": 1,
   "metadata": {},
   "outputs": [
    {
     "name": "stdout",
     "output_type": "stream",
     "text": [
      "Hi 1\n",
      "Hi 2\n",
      "Hi 3\n",
      "Hi 4\n",
      "Hi 5\n"
     ]
    }
   ],
   "source": [
    "# for loop\n",
    "# range() : sequential data type\n",
    "for z in [1,2,3,4,5]:\n",
    "    print(\"Hi\",z)"
   ]
  },
  {
   "cell_type": "code",
   "execution_count": 2,
   "metadata": {},
   "outputs": [
    {
     "name": "stdout",
     "output_type": "stream",
     "text": [
      "1 Hi\n",
      "2 Hi\n",
      "3 Hi\n",
      "4 Hi\n",
      "5 Hi\n"
     ]
    }
   ],
   "source": [
    "# list\n",
    "for z in [1,2,3,4,5]:\n",
    "    print(z,\"Hi\")"
   ]
  },
  {
   "cell_type": "code",
   "execution_count": 3,
   "metadata": {},
   "outputs": [
    {
     "name": "stdout",
     "output_type": "stream",
     "text": [
      "1 Hi\n",
      "2 Hi\n",
      "3 Hi\n",
      "4 Hi\n",
      "5 Hi\n",
      "A Hi\n",
      "c Hi\n",
      "1.2 Hi\n"
     ]
    }
   ],
   "source": [
    "# tuple\n",
    "for z in (1,2,3,4,5,\"A\",\"c\",1.2):\n",
    "    print(z,\"Hi\")"
   ]
  },
  {
   "cell_type": "code",
   "execution_count": 4,
   "metadata": {},
   "outputs": [
    {
     "name": "stdout",
     "output_type": "stream",
     "text": [
      "c Hi\n",
      "1 Hi\n",
      "2 Hi\n",
      "3 Hi\n",
      "4 Hi\n",
      "5 Hi\n",
      "1.2 Hi\n",
      "A Hi\n"
     ]
    }
   ],
   "source": [
    "# sets\n",
    "for z in {1,2,3,4,5,\"A\",\"c\",1.2}:\n",
    "    print(z,\"Hi\")"
   ]
  },
  {
   "cell_type": "code",
   "execution_count": 5,
   "metadata": {},
   "outputs": [
    {
     "name": "stdout",
     "output_type": "stream",
     "text": [
      "1 Hello\n",
      "2 Hello\n",
      "3 Hello\n",
      "4 Hello\n",
      "5 Hello\n"
     ]
    }
   ],
   "source": [
    "# string\n",
    "a=\"12345\"\n",
    "for z in a:\n",
    "    print(z,\"Hello\")"
   ]
  },
  {
   "cell_type": "code",
   "execution_count": 6,
   "metadata": {},
   "outputs": [
    {
     "name": "stdout",
     "output_type": "stream",
     "text": [
      "0 Hi\n",
      "2 Hi\n",
      "4 Hi\n",
      "6 Hi\n",
      "8 Hi\n"
     ]
    }
   ],
   "source": [
    "# range\n",
    "for z in range(0,10,2):\n",
    "    print(z,\"Hi\")"
   ]
  },
  {
   "cell_type": "code",
   "execution_count": 7,
   "metadata": {},
   "outputs": [
    {
     "name": "stdout",
     "output_type": "stream",
     "text": [
      "0 Hi\n",
      "1 Hi\n",
      "2 Hi\n",
      "3 Hi\n",
      "4 Hi\n",
      "5 Hi\n",
      "6 Hi\n",
      "7 Hi\n",
      "8 Hi\n",
      "9 Hi\n"
     ]
    }
   ],
   "source": [
    "for z in range(0,10):\n",
    "    print(z,\"Hi\")"
   ]
  },
  {
   "cell_type": "code",
   "execution_count": 8,
   "metadata": {},
   "outputs": [
    {
     "name": "stdout",
     "output_type": "stream",
     "text": [
      "1 Hi\n",
      "2 Hi\n",
      "3 Hi\n",
      "4 Hi\n",
      "5 Hi\n",
      "6 Hi\n",
      "7 Hi\n",
      "8 Hi\n",
      "9 Hi\n",
      "10 Hi\n"
     ]
    }
   ],
   "source": [
    "for z in range(1,11):\n",
    "    print(z,\"Hi\")"
   ]
  },
  {
   "cell_type": "code",
   "execution_count": 9,
   "metadata": {},
   "outputs": [
    {
     "name": "stdout",
     "output_type": "stream",
     "text": [
      "0\n",
      "1\n",
      "2\n",
      "3\n",
      "4\n",
      "5\n",
      "6\n",
      "7\n",
      "8\n",
      "9\n"
     ]
    }
   ],
   "source": [
    "for z in range(0,10):\n",
    "    print(z)"
   ]
  },
  {
   "cell_type": "code",
   "execution_count": 10,
   "metadata": {},
   "outputs": [
    {
     "name": "stdout",
     "output_type": "stream",
     "text": [
      "1\n",
      "2\n",
      "3\n",
      "4\n",
      "5\n",
      "6\n",
      "7\n",
      "8\n",
      "9\n",
      "10\n"
     ]
    }
   ],
   "source": [
    "for z in range(1,11):\n",
    "    print(z)"
   ]
  },
  {
   "cell_type": "code",
   "execution_count": 11,
   "metadata": {},
   "outputs": [
    {
     "data": {
      "text/plain": [
       "False"
      ]
     },
     "execution_count": 11,
     "metadata": {},
     "output_type": "execute_result"
    }
   ],
   "source": [
    "\"a\" not in \"abcdef\""
   ]
  },
  {
   "cell_type": "code",
   "execution_count": 12,
   "metadata": {},
   "outputs": [
    {
     "data": {
      "text/plain": [
       "True"
      ]
     },
     "execution_count": 12,
     "metadata": {},
     "output_type": "execute_result"
    }
   ],
   "source": [
    "\"a\" in \"abcdef\""
   ]
  },
  {
   "cell_type": "code",
   "execution_count": 13,
   "metadata": {},
   "outputs": [
    {
     "name": "stdout",
     "output_type": "stream",
     "text": [
      "1\n",
      "2\n",
      "3\n"
     ]
    }
   ],
   "source": [
    "for z in range(1,6):\n",
    "    if z==4:\n",
    "        break\n",
    "    print(z)"
   ]
  },
  {
   "cell_type": "code",
   "execution_count": 14,
   "metadata": {},
   "outputs": [
    {
     "name": "stdout",
     "output_type": "stream",
     "text": [
      "1\n",
      "2\n",
      "3\n",
      "5\n"
     ]
    }
   ],
   "source": [
    "for z in range(1,6):\n",
    "    if z==4:\n",
    "        continue\n",
    "    print(z)"
   ]
  },
  {
   "cell_type": "code",
   "execution_count": 15,
   "metadata": {},
   "outputs": [
    {
     "name": "stdout",
     "output_type": "stream",
     "text": [
      "abcdef\n",
      "abcdef\n",
      "abcdef\n",
      "abcdef\n",
      "abcdef\n",
      "abcdef\n"
     ]
    }
   ],
   "source": [
    "x=\"abcdef\"\n",
    "for a in x:\n",
    "    print(x)"
   ]
  },
  {
   "cell_type": "code",
   "execution_count": 16,
   "metadata": {},
   "outputs": [
    {
     "name": "stdout",
     "output_type": "stream",
     "text": [
      "a\n",
      "b\n",
      "c\n",
      "d\n",
      "e\n",
      "f\n"
     ]
    }
   ],
   "source": [
    "x=\"abcdef\"\n",
    "for a in x:\n",
    "    print(a)"
   ]
  },
  {
   "cell_type": "code",
   "execution_count": 17,
   "metadata": {},
   "outputs": [
    {
     "name": "stdout",
     "output_type": "stream",
     "text": [
      "a\n",
      "b\n",
      "c\n",
      "d\n",
      "e\n",
      "f\n"
     ]
    }
   ],
   "source": [
    "x=\"abcdef\"\n",
    "for a in range(len(x)):\n",
    "    print(x[a])"
   ]
  },
  {
   "cell_type": "code",
   "execution_count": 19,
   "metadata": {},
   "outputs": [
    {
     "name": "stdout",
     "output_type": "stream",
     "text": [
      "0 a\n",
      "1 b\n",
      "2 c\n",
      "4 e\n",
      "5 f\n"
     ]
    }
   ],
   "source": [
    "x=\"abcdef\"\n",
    "for a in range(len(x)):\n",
    "    if a==3:\n",
    "        continue\n",
    "    print(a,x[a])"
   ]
  },
  {
   "cell_type": "code",
   "execution_count": 20,
   "metadata": {},
   "outputs": [
    {
     "name": "stdout",
     "output_type": "stream",
     "text": [
      "0 a\n",
      "1 b\n",
      "2 c\n"
     ]
    }
   ],
   "source": [
    "x=\"abcdef\"\n",
    "for a in range(len(x)):\n",
    "    if a==3:\n",
    "        break\n",
    "    print(a,x[a])"
   ]
  },
  {
   "cell_type": "code",
   "execution_count": 22,
   "metadata": {},
   "outputs": [
    {
     "name": "stdout",
     "output_type": "stream",
     "text": [
      "1 Hi\n",
      "2 Hi\n",
      "3 Hi\n",
      "4 Hi\n",
      "5 Hi\n",
      "6 Hi\n",
      "7 Hi\n",
      "8 Hi\n",
      "9 Hi\n",
      "10 Hi\n"
     ]
    }
   ],
   "source": [
    "for a in range(1,11):\n",
    "    print(a,\"Hi\")"
   ]
  },
  {
   "cell_type": "code",
   "execution_count": 23,
   "metadata": {},
   "outputs": [
    {
     "name": "stdout",
     "output_type": "stream",
     "text": [
      "4\n"
     ]
    }
   ],
   "source": [
    "# without using the len() try to find the length of data\n",
    "x=\"abdf\"\n",
    "count=0\n",
    "for y in x:\n",
    "    count=count+1\n",
    "print(count)"
   ]
  },
  {
   "cell_type": "code",
   "execution_count": 24,
   "metadata": {},
   "outputs": [
    {
     "name": "stdout",
     "output_type": "stream",
     "text": [
      "1\n",
      "2\n",
      "3\n",
      "4\n"
     ]
    }
   ],
   "source": [
    "x=\"abdf\"\n",
    "count=0\n",
    "for y in x:\n",
    "    count=count+1\n",
    "    print(count)"
   ]
  },
  {
   "cell_type": "code",
   "execution_count": 25,
   "metadata": {},
   "outputs": [
    {
     "name": "stdout",
     "output_type": "stream",
     "text": [
      "Sowjanyakartheek\n",
      "16\n"
     ]
    }
   ],
   "source": [
    "x=input()\n",
    "count=0\n",
    "for y in x:\n",
    "    count=count+1\n",
    "print(count)"
   ]
  },
  {
   "cell_type": "code",
   "execution_count": 26,
   "metadata": {},
   "outputs": [
    {
     "name": "stdout",
     "output_type": "stream",
     "text": [
      "1 abdf\n",
      "2 abdf\n",
      "3 abdf\n",
      "4 abdf\n"
     ]
    }
   ],
   "source": [
    "x=\"abdf\"\n",
    "count=0\n",
    "for y in x:\n",
    "    count=count+1\n",
    "    print(count,x)"
   ]
  },
  {
   "cell_type": "code",
   "execution_count": 29,
   "metadata": {},
   "outputs": [
    {
     "name": "stdout",
     "output_type": "stream",
     "text": [
      "1\n",
      "2\n",
      "3\n",
      "4\n"
     ]
    }
   ],
   "source": [
    "x=\"abdf\"\n",
    "count=0\n",
    "for y in x:\n",
    "    count=count+1\n",
    "    print(count)"
   ]
  },
  {
   "cell_type": "code",
   "execution_count": 32,
   "metadata": {},
   "outputs": [
    {
     "name": "stdout",
     "output_type": "stream",
     "text": [
      "36\n"
     ]
    }
   ],
   "source": [
    "# Write a program in which you calculate the sum of all the values\n",
    "x=[1,2,3,4,5,6,7,8]\n",
    "count=0\n",
    "for y in x:\n",
    "    count=count+y\n",
    "print(count)"
   ]
  },
  {
   "cell_type": "code",
   "execution_count": 33,
   "metadata": {},
   "outputs": [
    {
     "ename": "TypeError",
     "evalue": "unsupported operand type(s) for +: 'int' and 'str'",
     "output_type": "error",
     "traceback": [
      "\u001b[1;31m---------------------------------------------------------------------------\u001b[0m",
      "\u001b[1;31mTypeError\u001b[0m                                 Traceback (most recent call last)",
      "\u001b[1;32m<ipython-input-33-90c8a0d67574>\u001b[0m in \u001b[0;36m<module>\u001b[1;34m\u001b[0m\n\u001b[0;32m      2\u001b[0m \u001b[0mcount\u001b[0m\u001b[1;33m=\u001b[0m\u001b[1;36m0\u001b[0m\u001b[1;33m\u001b[0m\u001b[1;33m\u001b[0m\u001b[0m\n\u001b[0;32m      3\u001b[0m \u001b[1;32mfor\u001b[0m \u001b[0my\u001b[0m \u001b[1;32min\u001b[0m \u001b[0mx\u001b[0m\u001b[1;33m:\u001b[0m\u001b[1;33m\u001b[0m\u001b[1;33m\u001b[0m\u001b[0m\n\u001b[1;32m----> 4\u001b[1;33m     \u001b[0mcount\u001b[0m\u001b[1;33m=\u001b[0m\u001b[0mcount\u001b[0m\u001b[1;33m+\u001b[0m\u001b[0my\u001b[0m\u001b[1;33m\u001b[0m\u001b[1;33m\u001b[0m\u001b[0m\n\u001b[0m\u001b[0;32m      5\u001b[0m \u001b[0mprint\u001b[0m\u001b[1;33m(\u001b[0m\u001b[0mcount\u001b[0m\u001b[1;33m)\u001b[0m\u001b[1;33m\u001b[0m\u001b[1;33m\u001b[0m\u001b[0m\n",
      "\u001b[1;31mTypeError\u001b[0m: unsupported operand type(s) for +: 'int' and 'str'"
     ]
    }
   ],
   "source": [
    "x=\"12345678\"\n",
    "count=0\n",
    "for y in x:\n",
    "    count=count+y\n",
    "print(count)"
   ]
  },
  {
   "cell_type": "code",
   "execution_count": 34,
   "metadata": {},
   "outputs": [
    {
     "name": "stdout",
     "output_type": "stream",
     "text": [
      "36\n"
     ]
    }
   ],
   "source": [
    "x=\"12345678\"\n",
    "count=0\n",
    "for y in x:\n",
    "    count=count+int(y)\n",
    "print(count)"
   ]
  },
  {
   "cell_type": "code",
   "execution_count": 41,
   "metadata": {},
   "outputs": [
    {
     "name": "stdout",
     "output_type": "stream",
     "text": [
      "362880\n"
     ]
    }
   ],
   "source": [
    "x=\"123456789\"\n",
    "count=1\n",
    "for y in x:\n",
    "    count=count*int(y)\n",
    "print(count)"
   ]
  },
  {
   "cell_type": "code",
   "execution_count": 60,
   "metadata": {},
   "outputs": [
    {
     "name": "stdout",
     "output_type": "stream",
     "text": [
      "1 + 1 = 1\n",
      "3 + 2 = 3\n",
      "6 + 3 = 6\n",
      "10 + 4 = 10\n",
      "15 + 5 = 15\n",
      "21 + 6 = 21\n",
      "28 + 7 = 28\n",
      "36 + 8 = 36\n",
      "36\n"
     ]
    }
   ],
   "source": [
    "x='12345678'\n",
    "count=0\n",
    "for y in x:\n",
    "    count=count+int(y)\n",
    "    print(\"{} + {} = {}\".format(count,y,count))\n",
    "print(count)\n",
    "# need to use inner for loop"
   ]
  },
  {
   "cell_type": "code",
   "execution_count": 61,
   "metadata": {},
   "outputs": [],
   "source": [
    "# 1. WRITE A PYTHON PROGRAM TO CONVERT A STRING TO LOWER CASE\n",
    "# 2. WRITE A PYTHON PROGRAM TO CONVERT ONLY ODD INDEXED CHARACTERS TO LOWER CASE\n",
    "# Ex: PYTHON\n",
    "# O/P: PyThOn\n",
    "# 3. WRITE A PYTHON PROGRAM TO CONVERT ONLY EVEN INDEXED CHARACTERA TO LOWER CASE\n",
    "# Ex: PYTHON\n",
    "# O/P: pYtHoN"
   ]
  },
  {
   "cell_type": "code",
   "execution_count": 62,
   "metadata": {},
   "outputs": [
    {
     "data": {
      "text/plain": [
       "'abcdef'"
      ]
     },
     "execution_count": 62,
     "metadata": {},
     "output_type": "execute_result"
    }
   ],
   "source": [
    "x='ABCDEF'\n",
    "x.lower()"
   ]
  },
  {
   "cell_type": "code",
   "execution_count": 69,
   "metadata": {},
   "outputs": [
    {
     "ename": "TypeError",
     "evalue": "unsupported operand type(s) for %: 'list' and 'int'",
     "output_type": "error",
     "traceback": [
      "\u001b[1;31m---------------------------------------------------------------------------\u001b[0m",
      "\u001b[1;31mTypeError\u001b[0m                                 Traceback (most recent call last)",
      "\u001b[1;32m<ipython-input-69-8b7488de54e1>\u001b[0m in \u001b[0;36m<module>\u001b[1;34m\u001b[0m\n\u001b[0;32m      1\u001b[0m \u001b[0mx\u001b[0m\u001b[1;33m=\u001b[0m\u001b[1;34m'ABCDEF'\u001b[0m\u001b[1;33m\u001b[0m\u001b[1;33m\u001b[0m\u001b[0m\n\u001b[0;32m      2\u001b[0m \u001b[1;32mfor\u001b[0m \u001b[0my\u001b[0m \u001b[1;32min\u001b[0m \u001b[0mx\u001b[0m\u001b[1;33m:\u001b[0m\u001b[1;33m\u001b[0m\u001b[1;33m\u001b[0m\u001b[0m\n\u001b[1;32m----> 3\u001b[1;33m     \u001b[1;32mif\u001b[0m \u001b[1;33m[\u001b[0m\u001b[0mx\u001b[0m\u001b[1;33m]\u001b[0m\u001b[1;33m%\u001b[0m\u001b[1;36m2\u001b[0m\u001b[1;33m==\u001b[0m\u001b[1;36m0\u001b[0m\u001b[1;33m:\u001b[0m\u001b[1;33m\u001b[0m\u001b[1;33m\u001b[0m\u001b[0m\n\u001b[0m\u001b[0;32m      4\u001b[0m         \u001b[0mprint\u001b[0m\u001b[1;33m(\u001b[0m\u001b[0my\u001b[0m\u001b[1;33m)\u001b[0m\u001b[1;33m\u001b[0m\u001b[1;33m\u001b[0m\u001b[0m\n\u001b[0;32m      5\u001b[0m     \u001b[1;32melse\u001b[0m\u001b[1;33m:\u001b[0m\u001b[1;33m\u001b[0m\u001b[1;33m\u001b[0m\u001b[0m\n",
      "\u001b[1;31mTypeError\u001b[0m: unsupported operand type(s) for %: 'list' and 'int'"
     ]
    }
   ],
   "source": [
    "x='ABCDEF'\n",
    "for y in x:\n",
    "    if [x]%2==0:\n",
    "        print(y)\n",
    "    else:\n",
    "        print(y.lower())"
   ]
  },
  {
   "cell_type": "code",
   "execution_count": 70,
   "metadata": {},
   "outputs": [
    {
     "name": "stdout",
     "output_type": "stream",
     "text": [
      "A\n",
      "B\n",
      "C\n",
      "D\n",
      "E\n",
      "F\n"
     ]
    }
   ],
   "source": [
    "x='ABCDEF'\n",
    "for y in x:\n",
    "    print(y)"
   ]
  },
  {
   "cell_type": "code",
   "execution_count": 76,
   "metadata": {},
   "outputs": [
    {
     "name": "stdout",
     "output_type": "stream",
     "text": [
      "A\n",
      "B\n",
      "C\n",
      "D\n",
      "E\n",
      "F\n"
     ]
    }
   ],
   "source": [
    "x='ABCDEF'\n",
    "for y in x:\n",
    "    print(y)"
   ]
  },
  {
   "cell_type": "code",
   "execution_count": 88,
   "metadata": {},
   "outputs": [
    {
     "name": "stdout",
     "output_type": "stream",
     "text": [
      "A\n",
      "b\n",
      "C\n",
      "d\n",
      "E\n",
      "f\n"
     ]
    }
   ],
   "source": [
    "x='ABCDEF'\n",
    "count=0\n",
    "for y in x:\n",
    "    count=count+1\n",
    "    if count%2!=0:\n",
    "        a=print(y)\n",
    "    else:\n",
    "        a=print(y.lower())"
   ]
  },
  {
   "cell_type": "code",
   "execution_count": 148,
   "metadata": {},
   "outputs": [
    {
     "name": "stdout",
     "output_type": "stream",
     "text": [
      "A\n",
      "b\n",
      "C\n",
      "d\n",
      "E\n",
      "f\n"
     ]
    }
   ],
   "source": [
    "# Create Empty Str and concatation\n",
    "x='ABCDEF'\n",
    "count=0\n",
    "for y in x:\n",
    "    count=count+1\n",
    "    a=\"\"\n",
    "    if count%2!=0:\n",
    "        b=print(a+y)\n",
    "    else:\n",
    "        c=print(a+y.lower())"
   ]
  },
  {
   "cell_type": "code",
   "execution_count": 149,
   "metadata": {},
   "outputs": [
    {
     "data": {
      "text/plain": [
       "'TeStInG'"
      ]
     },
     "execution_count": 149,
     "metadata": {},
     "output_type": "execute_result"
    }
   ],
   "source": [
    "str='testing'\n",
    "''.join([y.upper() if x%2==0 else y.lower() for x,y in enumerate(str)])"
   ]
  },
  {
   "cell_type": "code",
   "execution_count": 153,
   "metadata": {},
   "outputs": [
    {
     "name": "stdout",
     "output_type": "stream",
     "text": [
      "A\n",
      "b\n",
      "C\n",
      "d\n",
      "E\n",
      "f\n"
     ]
    }
   ],
   "source": [
    "x='ABCDEF'\n",
    "count=0\n",
    "for y in x:\n",
    "    count=count+1\n",
    "    if count%2!=0:\n",
    "        b=print(a+y)\n",
    "    else:\n",
    "        c=print(a+y.lower())"
   ]
  },
  {
   "cell_type": "code",
   "execution_count": 168,
   "metadata": {},
   "outputs": [
    {
     "name": "stdout",
     "output_type": "stream",
     "text": [
      " P\n",
      " Py\n",
      " PyT\n",
      " PyTh\n",
      " PyThO\n",
      " PyThOn\n"
     ]
    }
   ],
   "source": [
    "# 2. WRITE A PYTHON PROGRAM TO CONVERT ONLY ODD INDEXED CHARACTERS TO LOWER CASE\n",
    "# Ex: PYTHON\n",
    "# O/P: PyThOn\n",
    "x='PYTHON'\n",
    "count=0\n",
    "newstring=\" \"\n",
    "for y in x:\n",
    "    count=count+1\n",
    "    if count%2!=0:\n",
    "        newstring = newstring+y.upper()\n",
    "        print(newstring)\n",
    "    else:\n",
    "        newstring += y.lower()\n",
    "        print(newstring)"
   ]
  },
  {
   "cell_type": "code",
   "execution_count": 171,
   "metadata": {},
   "outputs": [
    {
     "name": "stdout",
     "output_type": "stream",
     "text": [
      "PYTHON\n",
      " P\n",
      " Py\n",
      " PyT\n",
      " PyTh\n",
      " PyThO\n",
      " PyThOn\n"
     ]
    }
   ],
   "source": [
    "x=input()\n",
    "count=0\n",
    "newstring=\" \"\n",
    "for y in x:\n",
    "    count=count+1\n",
    "    if count%2!=0:\n",
    "        newstring = newstring+y.upper()\n",
    "        print(newstring)\n",
    "    else:\n",
    "        newstring += y.lower()\n",
    "        print(newstring)"
   ]
  },
  {
   "cell_type": "code",
   "execution_count": null,
   "metadata": {},
   "outputs": [],
   "source": []
  }
 ],
 "metadata": {
  "kernelspec": {
   "display_name": "Python 3",
   "language": "python",
   "name": "python3"
  },
  "language_info": {
   "codemirror_mode": {
    "name": "ipython",
    "version": 3
   },
   "file_extension": ".py",
   "mimetype": "text/x-python",
   "name": "python",
   "nbconvert_exporter": "python",
   "pygments_lexer": "ipython3",
   "version": "3.7.4"
  }
 },
 "nbformat": 4,
 "nbformat_minor": 2
}
