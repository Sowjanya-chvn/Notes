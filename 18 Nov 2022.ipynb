{
 "cells": [
  {
   "cell_type": "code",
   "execution_count": 1,
   "metadata": {},
   "outputs": [
    {
     "name": "stdout",
     "output_type": "stream",
     "text": [
      "3\n"
     ]
    }
   ],
   "source": [
    "# Normal statements\n",
    "x=1\n",
    "y=2\n",
    "z=x+y\n",
    "print(z)"
   ]
  },
  {
   "cell_type": "code",
   "execution_count": 2,
   "metadata": {},
   "outputs": [
    {
     "name": "stdout",
     "output_type": "stream",
     "text": [
      "30\n"
     ]
    }
   ],
   "source": [
    "# if conditional statement\n",
    "a=10\n",
    "if a>5:\n",
    "    x=10\n",
    "    y=20\n",
    "    z=x+y\n",
    "    print(z) "
   ]
  },
  {
   "cell_type": "code",
   "execution_count": 3,
   "metadata": {},
   "outputs": [],
   "source": [
    "a=1\n",
    "if a>5:\n",
    "    x=10\n",
    "    y=20\n",
    "    z=x+y\n",
    "    print(z) "
   ]
  },
  {
   "cell_type": "code",
   "execution_count": 4,
   "metadata": {},
   "outputs": [
    {
     "name": "stdout",
     "output_type": "stream",
     "text": [
      "True\n"
     ]
    }
   ],
   "source": [
    "a=10\n",
    "b=15\n",
    "if a>5 and b>10:\n",
    "    print(\"True\")"
   ]
  },
  {
   "cell_type": "code",
   "execution_count": 5,
   "metadata": {},
   "outputs": [
    {
     "name": "stdout",
     "output_type": "stream",
     "text": [
      "True\n"
     ]
    }
   ],
   "source": [
    "a=10\n",
    "b=15\n",
    "if a<5 or b>10:\n",
    "    print(\"True\")"
   ]
  },
  {
   "cell_type": "code",
   "execution_count": 6,
   "metadata": {},
   "outputs": [
    {
     "name": "stdout",
     "output_type": "stream",
     "text": [
      "30\n"
     ]
    }
   ],
   "source": [
    "a=10\n",
    "if a>5 and a%2==0 and a%5==0:\n",
    "    x=10\n",
    "    y=20\n",
    "    z=x+y\n",
    "    print(z)"
   ]
  },
  {
   "cell_type": "code",
   "execution_count": 7,
   "metadata": {},
   "outputs": [
    {
     "name": "stdout",
     "output_type": "stream",
     "text": [
      "30\n"
     ]
    }
   ],
   "source": [
    "a=10\n",
    "if a>5 or a%2==0 or a%5==0 or a%3==0:\n",
    "    x=10\n",
    "    y=20\n",
    "    z=x+y\n",
    "    print(z)"
   ]
  },
  {
   "cell_type": "code",
   "execution_count": 8,
   "metadata": {},
   "outputs": [],
   "source": [
    "a=10\n",
    "if not(a>5 or a%2==0 or a%5==0 or a%3==0):\n",
    "    x=10\n",
    "    y=20\n",
    "    z=x+y\n",
    "    print(z)"
   ]
  },
  {
   "cell_type": "code",
   "execution_count": 9,
   "metadata": {},
   "outputs": [
    {
     "name": "stdout",
     "output_type": "stream",
     "text": [
      "30\n"
     ]
    }
   ],
   "source": [
    "a=10\n",
    "if not(a>5 and a%2==0 and a%5==0 and a%3==0):\n",
    "    x=10\n",
    "    y=20\n",
    "    z=x+y\n",
    "    print(z)"
   ]
  },
  {
   "cell_type": "code",
   "execution_count": 10,
   "metadata": {},
   "outputs": [
    {
     "name": "stdout",
     "output_type": "stream",
     "text": [
      "Welcome to the World\n"
     ]
    }
   ],
   "source": [
    "a=15\n",
    "if a>=15:\n",
    "    print(\"Welcome to the World\")"
   ]
  },
  {
   "cell_type": "code",
   "execution_count": 11,
   "metadata": {},
   "outputs": [],
   "source": [
    "a=15\n",
    "if not(a>=15):\n",
    "    print(\"Welcome to the World\")"
   ]
  },
  {
   "cell_type": "code",
   "execution_count": 12,
   "metadata": {},
   "outputs": [
    {
     "name": "stdout",
     "output_type": "stream",
     "text": [
      "Welcome to the World\n"
     ]
    }
   ],
   "source": [
    "a=15\n",
    "if a>=10:\n",
    "    print(\"Welcome to the World\")"
   ]
  },
  {
   "cell_type": "code",
   "execution_count": 13,
   "metadata": {},
   "outputs": [
    {
     "name": "stdout",
     "output_type": "stream",
     "text": [
      "If block is False\n"
     ]
    }
   ],
   "source": [
    "a=15\n",
    "if not(a>=15):\n",
    "    print(\"Welcome to the World\")\n",
    "else:\n",
    "    print(\"If block is False\")"
   ]
  },
  {
   "cell_type": "code",
   "execution_count": 14,
   "metadata": {},
   "outputs": [
    {
     "name": "stdout",
     "output_type": "stream",
     "text": [
      "200\n"
     ]
    }
   ],
   "source": [
    "# if if block is executed then else block will not be executed and vice versa\n",
    "# else does not contain any condition\n",
    "# else block is always written after if block\n",
    "a=1\n",
    "if a>5:\n",
    "    x=10\n",
    "    y=20\n",
    "    print(x+y)\n",
    "else:\n",
    "    x=10\n",
    "    y=20\n",
    "    print(x*y)"
   ]
  },
  {
   "cell_type": "code",
   "execution_count": 15,
   "metadata": {},
   "outputs": [],
   "source": [
    "# elif block is used for mutiple conditions and mutiple statements\n",
    "# elif block is written inbetween if and else\n",
    "# n no.of elif blocks can be written inbetween if and else blocks"
   ]
  },
  {
   "cell_type": "code",
   "execution_count": 16,
   "metadata": {},
   "outputs": [
    {
     "name": "stdout",
     "output_type": "stream",
     "text": [
      "Type any Number to know even or odd : 10\n",
      "The number 10 is Even\n"
     ]
    }
   ],
   "source": [
    "number=int(input(\"Type any Number to know even or odd : \"))\n",
    "if number%2==0:\n",
    "    print(\"The number {} is Even\".format(number))\n",
    "elif number%2!=0:\n",
    "    print(\"The number {} is Even\".format(number))\n",
    "else:\n",
    "    print(\"The number is undefined\")"
   ]
  },
  {
   "cell_type": "code",
   "execution_count": 17,
   "metadata": {},
   "outputs": [
    {
     "name": "stdout",
     "output_type": "stream",
     "text": [
      "Type any Number to know even or odd : 21\n",
      "The number 21 is Odd\n"
     ]
    }
   ],
   "source": [
    "number=int(input(\"Type any Number to know even or odd : \"))\n",
    "if number%2==0:\n",
    "    print(\"The number {} is Even\".format(number))\n",
    "elif number%2!=0:\n",
    "    print(\"The number {} is Odd\".format(number))\n",
    "else:\n",
    "    print(\"The number is undefined\")"
   ]
  },
  {
   "cell_type": "code",
   "execution_count": 18,
   "metadata": {},
   "outputs": [
    {
     "name": "stdout",
     "output_type": "stream",
     "text": [
      "Type any Number to know even or odd : 0\n",
      "The number 0 is Even\n"
     ]
    }
   ],
   "source": [
    "number=int(input(\"Type any Number to know even or odd : \"))\n",
    "if number%2==0:\n",
    "    print(\"The number {} is Even\".format(number))\n",
    "elif number%2!=0:\n",
    "    print(\"The number {} is Odd\".format(number))\n",
    "else:\n",
    "    print(\"The number is undefined\")"
   ]
  },
  {
   "cell_type": "code",
   "execution_count": 19,
   "metadata": {},
   "outputs": [
    {
     "name": "stdout",
     "output_type": "stream",
     "text": [
      "Type any Number to know even or odd : -10\n",
      "The number -10 is Even\n"
     ]
    }
   ],
   "source": [
    "number=int(input(\"Type any Number to know even or odd : \"))\n",
    "if number%2==0:\n",
    "    print(\"The number {} is Even\".format(number))\n",
    "elif number%2!=0:\n",
    "    print(\"The number {} is Odd\".format(number))\n",
    "else:\n",
    "    print(\"The number is undefined\")"
   ]
  },
  {
   "cell_type": "code",
   "execution_count": 20,
   "metadata": {},
   "outputs": [
    {
     "name": "stdout",
     "output_type": "stream",
     "text": [
      "Enter first number : 10\n",
      "Enter the Sign : +\n",
      "Enter second number : 20\n",
      "10.0 + 20.0 = 30.0\n"
     ]
    }
   ],
   "source": [
    "# create a calculater\n",
    "a=float(input(\"Enter first number : \"))\n",
    "b=(input(\"Enter the Sign : \"))\n",
    "c=float(input(\"Enter second number : \"))\n",
    "if b=='+':\n",
    "    print(\"{} + {} = {}\".format(a,c,a+c))\n",
    "elif b=='-':\n",
    "    print(\"{} - {} = {}\".format(a,c,a-c))\n",
    "elif b=='*':\n",
    "    print(\"{} * {} = {}\".format(a,c,a*c))\n",
    "elif b=='/':\n",
    "    print(\"{} / {} = {}\".format(a,c,a/c))\n",
    "else:\n",
    "    print(\"Invalid Sign\")"
   ]
  },
  {
   "cell_type": "code",
   "execution_count": 21,
   "metadata": {},
   "outputs": [
    {
     "name": "stdout",
     "output_type": "stream",
     "text": [
      "Enter first number : 10\n",
      "Enter the Sign : -\n",
      "Enter second number : 20\n",
      "10.0 - 20.0 = -10.0\n"
     ]
    }
   ],
   "source": [
    "a=float(input(\"Enter first number : \"))\n",
    "b=(input(\"Enter the Sign : \"))\n",
    "c=float(input(\"Enter second number : \"))\n",
    "if b=='+':\n",
    "    print(\"{} + {} = {}\".format(a,c,a+c))\n",
    "elif b=='-':\n",
    "    print(\"{} - {} = {}\".format(a,c,a-c))\n",
    "elif b=='*':\n",
    "    print(\"{} * {} = {}\".format(a,c,a*c))\n",
    "elif b=='/':\n",
    "    print(\"{} / {} = {}\".format(a,c,a/c))\n",
    "else:\n",
    "    print(\"Invalid Sign\")"
   ]
  },
  {
   "cell_type": "code",
   "execution_count": 22,
   "metadata": {},
   "outputs": [
    {
     "name": "stdout",
     "output_type": "stream",
     "text": [
      "Enter first number : 10\n",
      "Enter the Sign : *\n",
      "Enter second number : 2\n",
      "10.0 * 2.0 = 20.0\n"
     ]
    }
   ],
   "source": [
    "a=float(input(\"Enter first number : \"))\n",
    "b=(input(\"Enter the Sign : \"))\n",
    "c=float(input(\"Enter second number : \"))\n",
    "if b=='+':\n",
    "    print(\"{} + {} = {}\".format(a,c,a+c))\n",
    "elif b=='-':\n",
    "    print(\"{} - {} = {}\".format(a,c,a-c))\n",
    "elif b=='*':\n",
    "    print(\"{} * {} = {}\".format(a,c,a*c))\n",
    "elif b=='/':\n",
    "    print(\"{} / {} = {}\".format(a,c,a/c))\n",
    "else:\n",
    "    print(\"Invalid Sign\")"
   ]
  },
  {
   "cell_type": "code",
   "execution_count": 23,
   "metadata": {},
   "outputs": [
    {
     "name": "stdout",
     "output_type": "stream",
     "text": [
      "Enter first number : 10\n",
      "Enter the Sign : /\n",
      "Enter second number : 2\n",
      "10.0 / 2.0 = 5.0\n"
     ]
    }
   ],
   "source": [
    "a=float(input(\"Enter first number : \"))\n",
    "b=(input(\"Enter the Sign : \"))\n",
    "c=float(input(\"Enter second number : \"))\n",
    "if b=='+':\n",
    "    print(\"{} + {} = {}\".format(a,c,a+c))\n",
    "elif b=='-':\n",
    "    print(\"{} - {} = {}\".format(a,c,a-c))\n",
    "elif b=='*':\n",
    "    print(\"{} * {} = {}\".format(a,c,a*c))\n",
    "elif b=='/':\n",
    "    print(\"{} / {} = {}\".format(a,c,a/c))\n",
    "else:\n",
    "    print(\"Invalid Sign\")"
   ]
  },
  {
   "cell_type": "code",
   "execution_count": 24,
   "metadata": {},
   "outputs": [
    {
     "name": "stdout",
     "output_type": "stream",
     "text": [
      "Enter first number : 10\n",
      "Enter the Sign : **\n",
      "Enter second number : 3\n",
      "Invalid Sign\n"
     ]
    }
   ],
   "source": [
    "a=float(input(\"Enter first number : \"))\n",
    "b=(input(\"Enter the Sign : \"))\n",
    "c=float(input(\"Enter second number : \"))\n",
    "if b=='+':\n",
    "    print(\"{} + {} = {}\".format(a,c,a+c))\n",
    "elif b=='-':\n",
    "    print(\"{} - {} = {}\".format(a,c,a-c))\n",
    "elif b=='*':\n",
    "    print(\"{} * {} = {}\".format(a,c,a*c))\n",
    "elif b=='/':\n",
    "    print(\"{} / {} = {}\".format(a,c,a/c))\n",
    "else:\n",
    "    print(\"Invalid Sign\")"
   ]
  },
  {
   "cell_type": "code",
   "execution_count": 25,
   "metadata": {},
   "outputs": [
    {
     "name": "stdout",
     "output_type": "stream",
     "text": [
      "Enter first number : 10\n",
      "Enter the Sign : **\n",
      "Enter second number : 2\n",
      "10.0^2.0 = 100.0\n"
     ]
    }
   ],
   "source": [
    "a=float(input(\"Enter first number : \"))\n",
    "b=(input(\"Enter the Sign : \"))\n",
    "c=float(input(\"Enter second number : \"))\n",
    "if b=='+':\n",
    "    print(\"{} + {} = {}\".format(a,c,a+c))\n",
    "elif b=='-':\n",
    "    print(\"{} - {} = {}\".format(a,c,a-c))\n",
    "elif b=='*':\n",
    "    print(\"{} * {} = {}\".format(a,c,a*c))\n",
    "elif b=='/':\n",
    "    print(\"{} / {} = {}\".format(a,c,a/c))\n",
    "elif b=='**':\n",
    "    print(\"{}^{} = {}\".format(a,c,a**c))\n",
    "else:\n",
    "    print(\"Invalid Sign\")"
   ]
  },
  {
   "cell_type": "code",
   "execution_count": 26,
   "metadata": {},
   "outputs": [
    {
     "name": "stdout",
     "output_type": "stream",
     "text": [
      "Enter first number : 10\n",
      "Enter the Sign : -\n",
      "Enter second number : 20\n",
      "10.0 - 20.0 = -10.0\n"
     ]
    }
   ],
   "source": [
    "a=float(input(\"Enter first number : \"))\n",
    "b=(input(\"Enter the Sign : \"))\n",
    "c=float(input(\"Enter second number : \"))\n",
    "if b=='+':\n",
    "    print(\"{} + {} = {}\".format(a,c,a+c))\n",
    "elif b=='-' and c>a:\n",
    "    print(\"{} - {} = {}\".format(a,c,a-c))\n",
    "elif b=='*':\n",
    "    print(\"{} * {} = {}\".format(a,c,a*c))\n",
    "elif b=='/':\n",
    "    print(\"{} / {} = {}\".format(a,c,a/c))\n",
    "elif b=='**':\n",
    "    print(\"{}^{} = {}\".format(a,c,a**c))\n",
    "else:\n",
    "    print(\"Invalid Sign\")"
   ]
  },
  {
   "cell_type": "code",
   "execution_count": 27,
   "metadata": {},
   "outputs": [
    {
     "name": "stdout",
     "output_type": "stream",
     "text": [
      "Enter first number : 10\n",
      "Enter the Sign : -\n",
      "Enter second number : 100\n",
      "10.0 - 100.0 = -90.0\n"
     ]
    }
   ],
   "source": [
    "a=float(input(\"Enter first number : \"))\n",
    "b=(input(\"Enter the Sign : \"))\n",
    "c=float(input(\"Enter second number : \"))\n",
    "if b=='+':\n",
    "    print(\"{} + {} = {}\".format(a,c,a+c))\n",
    "elif b=='-' and c>a:\n",
    "    print(\"{} - {} = {}\".format(a,c,a-c))\n",
    "elif b=='*':\n",
    "    print(\"{} * {} = {}\".format(a,c,a*c))\n",
    "elif b=='/':\n",
    "    print(\"{} / {} = {}\".format(a,c,a/c))\n",
    "elif b=='**':\n",
    "    print(\"{}^{} = {}\".format(a,c,a**c))\n",
    "else:\n",
    "    print(\"Invalid Sign\")"
   ]
  },
  {
   "cell_type": "code",
   "execution_count": 28,
   "metadata": {},
   "outputs": [
    {
     "name": "stdout",
     "output_type": "stream",
     "text": [
      "Enter first number : 10\n",
      "Enter the Sign : %\n",
      "Enter second number : 2\n",
      "Invalid Sign\n"
     ]
    }
   ],
   "source": [
    "a=float(input(\"Enter first number : \"))\n",
    "b=(input(\"Enter the Sign : \"))\n",
    "c=float(input(\"Enter second number : \"))\n",
    "if b=='+':\n",
    "    print(\"{} + {} = {}\".format(a,c,a+c))\n",
    "elif b=='-':\n",
    "    print(\"{} - {} = {}\".format(a,c,a-c))\n",
    "elif b=='*':\n",
    "    print(\"{} * {} = {}\".format(a,c,a*c))\n",
    "elif b=='/':\n",
    "    print(\"{} / {} = {}\".format(a,c,a/c))\n",
    "elif b=='**':\n",
    "    print(\"{}^{} = {}\".format(a,c,a**c))\n",
    "else:\n",
    "    print(\"Invalid Sign\")"
   ]
  },
  {
   "cell_type": "code",
   "execution_count": 29,
   "metadata": {},
   "outputs": [],
   "source": [
    "# rock, paper & scirrors\n",
    "# rock and paper means paper wins\n",
    "# paper and scirrors means scirrors wins"
   ]
  },
  {
   "cell_type": "code",
   "execution_count": 30,
   "metadata": {},
   "outputs": [],
   "source": [
    "# GITHUB: it is a web application where we can store all the coding file "
   ]
  },
  {
   "cell_type": "code",
   "execution_count": null,
   "metadata": {},
   "outputs": [],
   "source": []
  }
 ],
 "metadata": {
  "kernelspec": {
   "display_name": "Python 3",
   "language": "python",
   "name": "python3"
  },
  "language_info": {
   "codemirror_mode": {
    "name": "ipython",
    "version": 3
   },
   "file_extension": ".py",
   "mimetype": "text/x-python",
   "name": "python",
   "nbconvert_exporter": "python",
   "pygments_lexer": "ipython3",
   "version": "3.7.4"
  }
 },
 "nbformat": 4,
 "nbformat_minor": 2
}
