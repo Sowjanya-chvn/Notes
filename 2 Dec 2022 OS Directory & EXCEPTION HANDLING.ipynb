{
 "cells": [
  {
   "cell_type": "code",
   "execution_count": 1,
   "metadata": {},
   "outputs": [],
   "source": [
    "import os"
   ]
  },
  {
   "cell_type": "code",
   "execution_count": 2,
   "metadata": {},
   "outputs": [],
   "source": [
    "os.remove(r\"C:\\Users\\sowjanya\\Desktop\\text.txt\")"
   ]
  },
  {
   "cell_type": "code",
   "execution_count": 3,
   "metadata": {},
   "outputs": [
    {
     "data": {
      "text/plain": [
       "'C:\\\\Users\\\\sowjanya\\\\Batch 197'"
      ]
     },
     "execution_count": 3,
     "metadata": {},
     "output_type": "execute_result"
    }
   ],
   "source": [
    "os.getcwd() # get current working directory"
   ]
  },
  {
   "cell_type": "code",
   "execution_count": 4,
   "metadata": {},
   "outputs": [
    {
     "data": {
      "text/plain": [
       "['.ipynb_checkpoints',\n",
       " '10 Nov 2022.ipynb',\n",
       " '11 Nov 2022.ipynb',\n",
       " '17 Nov 2022.ipynb',\n",
       " '18 Nov 2022.ipynb',\n",
       " '2 Dec 2022 OS Directory.ipynb',\n",
       " '21 Nov 2022 Looping Statement While Loop.ipynb',\n",
       " '22 Nov 2022 Looping Statement For Loop.ipynb',\n",
       " '23 Nov 2022 Nested Looping Statement.ipynb',\n",
       " '25 Nov 2022 Functions - Variable Length Arguments .ipynb',\n",
       " '28 Nov 2022 Functions - Generators.ipynb',\n",
       " '29 Nov 2022 Functions - Filter.ipynb',\n",
       " '30 Nov 2022  Decorators.ipynb',\n",
       " '30 Nov 2022  FILE HANDLING.ipynb',\n",
       " '7 Nov 2022.ipynb',\n",
       " '8 Nov 2022.ipynb',\n",
       " '9 Nov 2022.ipynb',\n",
       " 'Alphabets-Upper_Case.ipynb',\n",
       " 'Alphabets_Lower_Case.ipynb',\n",
       " 'TASK 1 Assignment 22 Nov 2022 COPY.ipynb',\n",
       " 'TASK 1 ASSIGNMENT 22 NOV 2022.ipynb',\n",
       " 'TASK 2 ASSIGNMENT 28 NOV 2022.ipynb',\n",
       " 'TASK 3 ASSIGNMENT 30 NOV 2022.ipynb',\n",
       " 'TASK 3 COPy.ipynb',\n",
       " 'Untitled Folder',\n",
       " 'Untitled.ipynb',\n",
       " 'Untitled1.ipynb']"
      ]
     },
     "execution_count": 4,
     "metadata": {},
     "output_type": "execute_result"
    }
   ],
   "source": [
    "os.listdir() # to find the contents in the present directory"
   ]
  },
  {
   "cell_type": "code",
   "execution_count": 6,
   "metadata": {},
   "outputs": [],
   "source": [
    "os.chdir(\"C:\\\\Users\\\\sowjanya\\\\Contacts\") # to change the directory"
   ]
  },
  {
   "cell_type": "code",
   "execution_count": 7,
   "metadata": {},
   "outputs": [
    {
     "data": {
      "text/plain": [
       "'C:\\\\Users\\\\sowjanya\\\\Contacts'"
      ]
     },
     "execution_count": 7,
     "metadata": {},
     "output_type": "execute_result"
    }
   ],
   "source": [
    "os.getcwd()"
   ]
  },
  {
   "cell_type": "code",
   "execution_count": 8,
   "metadata": {},
   "outputs": [
    {
     "ename": "PermissionError",
     "evalue": "[WinError 32] The process cannot access the file because it is being used by another process: 'C:\\\\Users\\\\sowjanya\\\\Contacts'",
     "output_type": "error",
     "traceback": [
      "\u001b[1;31m---------------------------------------------------------------------------\u001b[0m",
      "\u001b[1;31mPermissionError\u001b[0m                           Traceback (most recent call last)",
      "\u001b[1;32m<ipython-input-8-a4479ba87713>\u001b[0m in \u001b[0;36m<module>\u001b[1;34m\u001b[0m\n\u001b[1;32m----> 1\u001b[1;33m \u001b[0mos\u001b[0m\u001b[1;33m.\u001b[0m\u001b[0mrmdir\u001b[0m\u001b[1;33m(\u001b[0m\u001b[1;34m\"C:\\\\Users\\\\sowjanya\\\\Contacts\"\u001b[0m\u001b[1;33m)\u001b[0m\u001b[1;33m\u001b[0m\u001b[1;33m\u001b[0m\u001b[0m\n\u001b[0m",
      "\u001b[1;31mPermissionError\u001b[0m: [WinError 32] The process cannot access the file because it is being used by another process: 'C:\\\\Users\\\\sowjanya\\\\Contacts'"
     ]
    }
   ],
   "source": [
    "os.rmdir(\"C:\\\\Users\\\\sowjanya\\\\Contacts\")"
   ]
  },
  {
   "cell_type": "code",
   "execution_count": 9,
   "metadata": {},
   "outputs": [
    {
     "ename": "SyntaxError",
     "evalue": "EOL while scanning string literal (<ipython-input-9-a6d1b17ffeeb>, line 2)",
     "output_type": "error",
     "traceback": [
      "\u001b[1;36m  File \u001b[1;32m\"<ipython-input-9-a6d1b17ffeeb>\"\u001b[1;36m, line \u001b[1;32m2\u001b[0m\n\u001b[1;33m    x=\"asdsf\u001b[0m\n\u001b[1;37m            ^\u001b[0m\n\u001b[1;31mSyntaxError\u001b[0m\u001b[1;31m:\u001b[0m EOL while scanning string literal\n"
     ]
    }
   ],
   "source": [
    "# EXCEPTION HANDLING\n",
    "x=\"asdsf"
   ]
  },
  {
   "cell_type": "code",
   "execution_count": 11,
   "metadata": {},
   "outputs": [
    {
     "ename": "ZeroDivisionError",
     "evalue": "division by zero",
     "output_type": "error",
     "traceback": [
      "\u001b[1;31m---------------------------------------------------------------------------\u001b[0m",
      "\u001b[1;31mZeroDivisionError\u001b[0m                         Traceback (most recent call last)",
      "\u001b[1;32m<ipython-input-11-7f7a6372999d>\u001b[0m in \u001b[0;36m<module>\u001b[1;34m\u001b[0m\n\u001b[0;32m      1\u001b[0m \u001b[1;31m# Syntax error can not be handled\u001b[0m\u001b[1;33m\u001b[0m\u001b[1;33m\u001b[0m\u001b[1;33m\u001b[0m\u001b[0m\n\u001b[0;32m      2\u001b[0m \u001b[0mx\u001b[0m\u001b[1;33m=\u001b[0m\u001b[1;34m\"dasfsf\"\u001b[0m\u001b[1;33m\u001b[0m\u001b[1;33m\u001b[0m\u001b[0m\n\u001b[1;32m----> 3\u001b[1;33m \u001b[1;36m1\u001b[0m\u001b[1;33m/\u001b[0m\u001b[1;36m0\u001b[0m\u001b[1;33m\u001b[0m\u001b[1;33m\u001b[0m\u001b[0m\n\u001b[0m\u001b[0;32m      4\u001b[0m \u001b[0mprint\u001b[0m\u001b[1;33m(\u001b[0m\u001b[1;34m\"Hi\"\u001b[0m\u001b[1;33m)\u001b[0m\u001b[1;33m\u001b[0m\u001b[1;33m\u001b[0m\u001b[0m\n",
      "\u001b[1;31mZeroDivisionError\u001b[0m: division by zero"
     ]
    }
   ],
   "source": [
    "# Syntax error can not be handled\n",
    "x=\"dasfsf\"\n",
    "1/0\n",
    "print(\"Hi\")"
   ]
  },
  {
   "cell_type": "code",
   "execution_count": 16,
   "metadata": {},
   "outputs": [
    {
     "name": "stdout",
     "output_type": "stream",
     "text": [
      "You can't divide a number by 0\n",
      "dasfsf\n"
     ]
    }
   ],
   "source": [
    "# we should know the exception error class\n",
    "try:\n",
    "    x=\"dasfsf\"\n",
    "    1/0\n",
    "    print(\"Hi\")\n",
    "except ZeroDivisionError:\n",
    "    print(\"You can't divide a number by 0\")\n",
    "print(x)"
   ]
  },
  {
   "cell_type": "code",
   "execution_count": 17,
   "metadata": {},
   "outputs": [
    {
     "ename": "IndexError",
     "evalue": "string index out of range",
     "output_type": "error",
     "traceback": [
      "\u001b[1;31m---------------------------------------------------------------------------\u001b[0m",
      "\u001b[1;31mIndexError\u001b[0m                                Traceback (most recent call last)",
      "\u001b[1;32m<ipython-input-17-70e2a34be8a4>\u001b[0m in \u001b[0;36m<module>\u001b[1;34m\u001b[0m\n\u001b[0;32m      1\u001b[0m \u001b[0mx\u001b[0m\u001b[1;33m=\u001b[0m\u001b[1;34m\"abcdef\"\u001b[0m\u001b[1;33m\u001b[0m\u001b[1;33m\u001b[0m\u001b[0m\n\u001b[1;32m----> 2\u001b[1;33m \u001b[0mx\u001b[0m\u001b[1;33m[\u001b[0m\u001b[1;36m7\u001b[0m\u001b[1;33m]\u001b[0m\u001b[1;33m\u001b[0m\u001b[1;33m\u001b[0m\u001b[0m\n\u001b[0m",
      "\u001b[1;31mIndexError\u001b[0m: string index out of range"
     ]
    }
   ],
   "source": [
    "x=\"abcdef\"\n",
    "x[7]"
   ]
  },
  {
   "cell_type": "code",
   "execution_count": 18,
   "metadata": {},
   "outputs": [
    {
     "name": "stdout",
     "output_type": "stream",
     "text": [
      "Check your String Length\n"
     ]
    }
   ],
   "source": [
    "try:\n",
    "    x=\"abcdef\"\n",
    "    x[7]\n",
    "except IndexError:\n",
    "    print(\"Check your String Length\")"
   ]
  },
  {
   "cell_type": "code",
   "execution_count": 22,
   "metadata": {},
   "outputs": [
    {
     "name": "stdout",
     "output_type": "stream",
     "text": [
      "Check the Object\n"
     ]
    }
   ],
   "source": [
    "try:\n",
    "    for y in range(x):\n",
    "        x=int(input(\"Enter a number between 1 to 10:\"))\n",
    "    if x!=6:\n",
    "        print(\"Guess the value again\")\n",
    "    else:\n",
    "        print(\"Well Guessed\")\n",
    "except ZeroDivisionError:\n",
    "    print(\"You can't divide a number by 0\")\n",
    "except IndexError:\n",
    "    print(\"Check your String Length\")\n",
    "except TypeError:\n",
    "    print(\"Check the Object\")"
   ]
  },
  {
   "cell_type": "code",
   "execution_count": 24,
   "metadata": {},
   "outputs": [
    {
     "name": "stdout",
     "output_type": "stream",
     "text": [
      "Enter the Number:5\n",
      "7\n"
     ]
    }
   ],
   "source": [
    "x=int(input(\"Enter the Number:\"))\n",
    "y=x+2\n",
    "print(y)"
   ]
  },
  {
   "cell_type": "code",
   "execution_count": 25,
   "metadata": {},
   "outputs": [
    {
     "name": "stdout",
     "output_type": "stream",
     "text": [
      "Enter the Number:r\n"
     ]
    },
    {
     "ename": "ValueError",
     "evalue": "invalid literal for int() with base 10: 'r'",
     "output_type": "error",
     "traceback": [
      "\u001b[1;31m---------------------------------------------------------------------------\u001b[0m",
      "\u001b[1;31mValueError\u001b[0m                                Traceback (most recent call last)",
      "\u001b[1;32m<ipython-input-25-7eeb90708705>\u001b[0m in \u001b[0;36m<module>\u001b[1;34m\u001b[0m\n\u001b[1;32m----> 1\u001b[1;33m \u001b[0mx\u001b[0m\u001b[1;33m=\u001b[0m\u001b[0mint\u001b[0m\u001b[1;33m(\u001b[0m\u001b[0minput\u001b[0m\u001b[1;33m(\u001b[0m\u001b[1;34m\"Enter the Number:\"\u001b[0m\u001b[1;33m)\u001b[0m\u001b[1;33m)\u001b[0m\u001b[1;33m\u001b[0m\u001b[1;33m\u001b[0m\u001b[0m\n\u001b[0m\u001b[0;32m      2\u001b[0m \u001b[0my\u001b[0m\u001b[1;33m=\u001b[0m\u001b[0mx\u001b[0m\u001b[1;33m+\u001b[0m\u001b[1;36m2\u001b[0m\u001b[1;33m\u001b[0m\u001b[1;33m\u001b[0m\u001b[0m\n\u001b[0;32m      3\u001b[0m \u001b[0mprint\u001b[0m\u001b[1;33m(\u001b[0m\u001b[0my\u001b[0m\u001b[1;33m)\u001b[0m\u001b[1;33m\u001b[0m\u001b[1;33m\u001b[0m\u001b[0m\n",
      "\u001b[1;31mValueError\u001b[0m: invalid literal for int() with base 10: 'r'"
     ]
    }
   ],
   "source": [
    "x=int(input(\"Enter the Number:\"))\n",
    "y=x+2\n",
    "print(y)"
   ]
  },
  {
   "cell_type": "code",
   "execution_count": 26,
   "metadata": {},
   "outputs": [
    {
     "name": "stdout",
     "output_type": "stream",
     "text": [
      "Enter the Number:e\n",
      "Enter only Numbers\n"
     ]
    }
   ],
   "source": [
    "try:\n",
    "    x=int(input(\"Enter the Number:\"))\n",
    "    y=x+2\n",
    "    print(y)\n",
    "    \n",
    "except ZeroDivisionError:\n",
    "    print(\"You can't divide a number by 0\")\n",
    "except IndexError:\n",
    "    print(\"Check your String Length\")\n",
    "except TypeError:\n",
    "    print(\"Check the Object\")\n",
    "except ValueError:\n",
    "    print(\"Enter only Numbers\")"
   ]
  },
  {
   "cell_type": "code",
   "execution_count": 31,
   "metadata": {},
   "outputs": [
    {
     "name": "stdout",
     "output_type": "stream",
     "text": [
      "Enter the Number:5\n",
      "7\n",
      "f\n",
      "You can't divide a number by 0\n",
      "Check your String Length\n",
      "Check the Object\n",
      "Enter only Numbers\n"
     ]
    }
   ],
   "source": [
    "# It can handle only one error at a time\n",
    "try:\n",
    "    x=int(input(\"Enter the Number:\"))\n",
    "    y=x+2\n",
    "    print(y)\n",
    "    x=\"abcdef\"\n",
    "    print(x[5])\n",
    "    1/0\n",
    "    \n",
    "except (ZeroDivisionError,IndexError,TypeError,ValueError):\n",
    "    print(\"You can't divide a number by 0\")\n",
    "    print(\"Check your String Length\")\n",
    "    print(\"Check the Object\")\n",
    "    print(\"Enter only Numbers\")"
   ]
  },
  {
   "cell_type": "code",
   "execution_count": 32,
   "metadata": {},
   "outputs": [
    {
     "name": "stdout",
     "output_type": "stream",
     "text": [
      "Enter the Number:4\n",
      "6\n",
      "f\n",
      "No Error\n"
     ]
    }
   ],
   "source": [
    "try:\n",
    "    x=int(input(\"Enter the Number:\"))\n",
    "    y=x+2\n",
    "    print(y)\n",
    "    x=\"abcdef\"\n",
    "    print(x[5])\n",
    "    \n",
    "except (ZeroDivisionError,IndexError,TypeError,ValueError):\n",
    "    print(\"You can't divide a number by 0\")\n",
    "    print(\"Check your String Length\")\n",
    "    print(\"Check the Object\")\n",
    "    print(\"Enter only Numbers\")\n",
    "else:\n",
    "    print(\"No Error\")"
   ]
  },
  {
   "cell_type": "code",
   "execution_count": 33,
   "metadata": {},
   "outputs": [
    {
     "name": "stdout",
     "output_type": "stream",
     "text": [
      "Check the Length of the string\n",
      "I will Execute always\n",
      "abcdefrg\n"
     ]
    }
   ],
   "source": [
    "try:\n",
    "    x=\"abcdefrg\"\n",
    "    x[20]\n",
    "    print(x)\n",
    "except IndexError:\n",
    "    print(\"Check the Length of the string\")\n",
    "else:\n",
    "    print(\"No Error\")\n",
    "finally:  # if error present or not it will run\n",
    "    print(\"I will Execute always\")\n",
    "    print(x)"
   ]
  },
  {
   "cell_type": "code",
   "execution_count": 34,
   "metadata": {},
   "outputs": [
    {
     "name": "stdout",
     "output_type": "stream",
     "text": [
      "Enter your height:0\n"
     ]
    },
    {
     "ename": "ValueError",
     "evalue": "Your height can't be zero",
     "output_type": "error",
     "traceback": [
      "\u001b[1;31m---------------------------------------------------------------------------\u001b[0m",
      "\u001b[1;31mValueError\u001b[0m                                Traceback (most recent call last)",
      "\u001b[1;32m<ipython-input-34-2cf70f4a8322>\u001b[0m in \u001b[0;36m<module>\u001b[1;34m\u001b[0m\n\u001b[0;32m      2\u001b[0m \u001b[0mh\u001b[0m\u001b[1;33m=\u001b[0m\u001b[0mint\u001b[0m\u001b[1;33m(\u001b[0m\u001b[0minput\u001b[0m\u001b[1;33m(\u001b[0m\u001b[1;34m\"Enter your height:\"\u001b[0m\u001b[1;33m)\u001b[0m\u001b[1;33m)\u001b[0m\u001b[1;33m\u001b[0m\u001b[1;33m\u001b[0m\u001b[0m\n\u001b[0;32m      3\u001b[0m \u001b[1;32mif\u001b[0m \u001b[0mh\u001b[0m\u001b[1;33m==\u001b[0m\u001b[1;36m0\u001b[0m\u001b[1;33m:\u001b[0m\u001b[1;33m\u001b[0m\u001b[1;33m\u001b[0m\u001b[0m\n\u001b[1;32m----> 4\u001b[1;33m     \u001b[1;32mraise\u001b[0m \u001b[0mValueError\u001b[0m\u001b[1;33m(\u001b[0m\u001b[1;34m\"Your height can't be zero\"\u001b[0m\u001b[1;33m)\u001b[0m\u001b[1;33m\u001b[0m\u001b[1;33m\u001b[0m\u001b[0m\n\u001b[0m",
      "\u001b[1;31mValueError\u001b[0m: Your height can't be zero"
     ]
    }
   ],
   "source": [
    "# raise keyword is used to create our own error message\n",
    "h=int(input(\"Enter your height:\"))\n",
    "if h==0:\n",
    "    raise ValueError(\"Your height can't be zero\")"
   ]
  },
  {
   "cell_type": "code",
   "execution_count": 37,
   "metadata": {},
   "outputs": [
    {
     "name": "stdout",
     "output_type": "stream",
     "text": [
      "Enter your height:0\n",
      "0\n"
     ]
    }
   ],
   "source": [
    "h=int(input(\"Enter your height:\"))\n",
    "print(h)"
   ]
  },
  {
   "cell_type": "code",
   "execution_count": null,
   "metadata": {},
   "outputs": [],
   "source": []
  }
 ],
 "metadata": {
  "kernelspec": {
   "display_name": "Python 3",
   "language": "python",
   "name": "python3"
  },
  "language_info": {
   "codemirror_mode": {
    "name": "ipython",
    "version": 3
   },
   "file_extension": ".py",
   "mimetype": "text/x-python",
   "name": "python",
   "nbconvert_exporter": "python",
   "pygments_lexer": "ipython3",
   "version": "3.7.4"
  }
 },
 "nbformat": 4,
 "nbformat_minor": 2
}
