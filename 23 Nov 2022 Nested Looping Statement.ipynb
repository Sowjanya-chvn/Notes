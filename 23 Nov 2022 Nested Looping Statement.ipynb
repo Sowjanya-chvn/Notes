{
 "cells": [
  {
   "cell_type": "code",
   "execution_count": 1,
   "metadata": {},
   "outputs": [
    {
     "name": "stdout",
     "output_type": "stream",
     "text": [
      "1 1\n",
      "1 2\n",
      "2 1\n",
      "2 2\n"
     ]
    }
   ],
   "source": [
    "for y in range(1,3):\n",
    "    for z in range(1,3):\n",
    "        print(y,z)"
   ]
  },
  {
   "cell_type": "code",
   "execution_count": 2,
   "metadata": {},
   "outputs": [
    {
     "name": "stdout",
     "output_type": "stream",
     "text": [
      "1 1\n",
      "2 1\n",
      "3 1\n"
     ]
    }
   ],
   "source": [
    "for y in range(1,4):\n",
    "    for z in range(1,2):\n",
    "        print(y,z)"
   ]
  },
  {
   "cell_type": "code",
   "execution_count": 3,
   "metadata": {},
   "outputs": [
    {
     "name": "stdout",
     "output_type": "stream",
     "text": [
      "1 1\n",
      "1 2\n",
      "2 1\n",
      "2 2\n",
      "3 1\n",
      "3 2\n",
      "4 1\n",
      "4 2\n",
      "5 1\n",
      "5 2\n"
     ]
    }
   ],
   "source": [
    "for y in range (1,6):\n",
    "    for z in range(1,3):\n",
    "        print(y,z)"
   ]
  },
  {
   "cell_type": "code",
   "execution_count": 4,
   "metadata": {},
   "outputs": [
    {
     "name": "stdout",
     "output_type": "stream",
     "text": [
      "1 1\n",
      "1 2\n"
     ]
    }
   ],
   "source": [
    "for y in range (1,2):\n",
    "    for z in range(1,3):\n",
    "        print(y,z)"
   ]
  },
  {
   "cell_type": "code",
   "execution_count": 5,
   "metadata": {},
   "outputs": [
    {
     "name": "stdout",
     "output_type": "stream",
     "text": [
      "a A\n",
      "a B\n",
      "a C\n",
      "a D\n",
      "b A\n",
      "b B\n",
      "b C\n",
      "b D\n",
      "c A\n",
      "c B\n",
      "c C\n",
      "c D\n",
      "d A\n",
      "d B\n",
      "d C\n",
      "d D\n"
     ]
    }
   ],
   "source": [
    "x=\"abcd\"\n",
    "y=\"ABCD\"\n",
    "for i in x:\n",
    "    for j in y:\n",
    "        print(i,j)"
   ]
  },
  {
   "cell_type": "code",
   "execution_count": 6,
   "metadata": {},
   "outputs": [
    {
     "data": {
      "text/plain": [
       "False"
      ]
     },
     "execution_count": 6,
     "metadata": {},
     "output_type": "execute_result"
    }
   ],
   "source": [
    "l1=[\"a\",\"b\",1,2,2.2]\n",
    "str(l1).isalpha()"
   ]
  },
  {
   "cell_type": "code",
   "execution_count": 7,
   "metadata": {},
   "outputs": [
    {
     "data": {
      "text/plain": [
       "2.2"
      ]
     },
     "execution_count": 7,
     "metadata": {},
     "output_type": "execute_result"
    }
   ],
   "source": [
    "l1=[\"a\",\"b\",1,2,2.2]\n",
    "l1.pop()"
   ]
  },
  {
   "cell_type": "code",
   "execution_count": 8,
   "metadata": {},
   "outputs": [
    {
     "name": "stdout",
     "output_type": "stream",
     "text": [
      "['a', 'b']\n",
      "a b\n",
      "ab\n"
     ]
    }
   ],
   "source": [
    "# append() is used to add the list at the end\n",
    "l1=[\"a\",\"b\",1,2,2.2]\n",
    "l2=[]\n",
    "for y in l1:\n",
    "    if str(y).isalpha():\n",
    "        l2.append(y)\n",
    "print(l2)\n",
    "print(\" \".join(l2))\n",
    "print(\"\".join(l2))"
   ]
  },
  {
   "cell_type": "code",
   "execution_count": 13,
   "metadata": {},
   "outputs": [
    {
     "name": "stdout",
     "output_type": "stream",
     "text": [
      "Enter first number : 2\n",
      "Enter the Sign : +\n",
      "Enter second number : 4\n",
      "2.0 + 4.0 = 6.0\n",
      "Enter first number : C\n",
      "End\n"
     ]
    }
   ],
   "source": [
    "a=1\n",
    "while a>=1:\n",
    "    x=(input(\"Enter first number : \"))\n",
    "    if x=='C':\n",
    "        print(\"End\")\n",
    "        break\n",
    "    y=(input(\"Enter the Sign : \"))\n",
    "    z=float(input(\"Enter second number : \"))\n",
    "    if y=='+':\n",
    "        print(\"{} + {} = {}\".format(float(x),z,float(x)+z))\n",
    "    elif y=='-':\n",
    "        print(\"{} - {} = {}\".format(float(x),z,float(x)-z))\n",
    "    elif y=='*':\n",
    "        print(\"{} * {} = {}\".format(float(x),z,float(x)*z))\n",
    "    elif y=='/':\n",
    "        print(\"{} / {} = {}\".format(float(x),z,float(x)/z))\n",
    "    else:\n",
    "        print(\"Invalid Sign\")\n",
    "a=a+1"
   ]
  },
  {
   "cell_type": "code",
   "execution_count": 18,
   "metadata": {},
   "outputs": [
    {
     "name": "stdout",
     "output_type": "stream",
     "text": [
      "Enter first number : 2\n",
      "Enter the Sign : +\n",
      "Enter second number : 3\n",
      "2.0 + 3.0 = 5.0\n",
      "Enter first number : 5\n",
      "Enter the Sign : -\n",
      "Enter second number : 10\n",
      "5.0 - 10.0 = -5.0\n",
      "Enter first number : 3\n",
      "Enter the Sign : *\n",
      "Enter second number : 5\n",
      "3.0 * 5.0 = 15.0\n",
      "Enter first number : 5\n",
      "Enter the Sign : /\n",
      "Enter second number : 2\n",
      "5.0 / 2.0 = 2.5\n",
      "Enter first number : 10\n",
      "Enter the Sign : %\n",
      "Enter second number : 3\n",
      "10.0 / 3.0 = 1.0\n",
      "Enter first number : 2\n",
      "Enter the Sign : **\n",
      "Enter second number : 3\n",
      "2.0^3.0 = 8.0\n",
      "Enter first number : C\n"
     ]
    }
   ],
   "source": [
    "# Create Calculator\n",
    "a=1\n",
    "while a>=1:\n",
    "    x=(input(\"Enter first number : \"))\n",
    "    if x=='C':\n",
    "        break\n",
    "    y=(input(\"Enter the Sign : \"))\n",
    "    z=float(input(\"Enter second number : \"))\n",
    "    if y=='+':\n",
    "        print(\"{} + {} = {}\".format(float(x),z,float(x)+z))\n",
    "    elif y=='-':\n",
    "        print(\"{} - {} = {}\".format(float(x),z,float(x)-z))\n",
    "    elif y=='*':\n",
    "        print(\"{} * {} = {}\".format(float(x),z,float(x)*z))\n",
    "    elif y=='/':\n",
    "        print(\"{} / {} = {}\".format(float(x),z,float(x)/z))\n",
    "    elif y=='%':\n",
    "        print(\"{} / {} = {}\".format(float(x),z,float(x)%z))\n",
    "    elif y=='**':\n",
    "        print(\"{}^{} = {}\".format(float(x),z,float(x)**z))\n",
    "    else:\n",
    "        print(\"Invalid Sign\")\n",
    "a=a+1"
   ]
  },
  {
   "cell_type": "code",
   "execution_count": null,
   "metadata": {},
   "outputs": [],
   "source": [
    " "
   ]
  }
 ],
 "metadata": {
  "kernelspec": {
   "display_name": "Python 3",
   "language": "python",
   "name": "python3"
  },
  "language_info": {
   "codemirror_mode": {
    "name": "ipython",
    "version": 3
   },
   "file_extension": ".py",
   "mimetype": "text/x-python",
   "name": "python",
   "nbconvert_exporter": "python",
   "pygments_lexer": "ipython3",
   "version": "3.7.4"
  }
 },
 "nbformat": 4,
 "nbformat_minor": 2
}
